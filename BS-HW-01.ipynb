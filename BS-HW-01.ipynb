{
 "cells": [
  {
   "cell_type": "code",
   "execution_count": 58,
   "id": "7c4e96a6-38c3-43d3-81d7-8e26d85048ea",
   "metadata": {},
   "outputs": [],
   "source": [
    "start_site = 'https://habr.com/ru/feed/'\n",
    "bad_sites = ['telegram.', 't.me', 'vk.com', 'dzen.', 'facebook.', 'twitter.']"
   ]
  },
  {
   "cell_type": "code",
   "execution_count": 59,
   "id": "fa9bf0f9-e4cd-47d9-bb84-eb6c1e0be627",
   "metadata": {},
   "outputs": [],
   "source": [
    "import requests\n",
    "from bs4 import BeautifulSoup"
   ]
  },
  {
   "cell_type": "code",
   "execution_count": 60,
   "id": "b945ed54-47f6-41eb-bdd1-adcaaafebafb",
   "metadata": {},
   "outputs": [],
   "source": [
    "response = requests.get(start_site)\n",
    "assert response.ok, f'{response.status_code}_{response.text}'"
   ]
  },
  {
   "cell_type": "code",
   "execution_count": 61,
   "id": "c99d8d35-8837-4f87-8a9e-321a546120ee",
   "metadata": {},
   "outputs": [],
   "source": [
    "soup = BeautifulSoup(response.content, \"html.parser\")"
   ]
  },
  {
   "cell_type": "code",
   "execution_count": 62,
   "id": "64e1790c-7894-4255-a944-3f66450d0998",
   "metadata": {},
   "outputs": [],
   "source": [
    "def get_site_name(site: str) -> str:\n",
    "    site_name = site.rpartition('https://')[-1]\n",
    "    site_name = site_name.partition('/')[0]\n",
    "    return site_name"
   ]
  },
  {
   "cell_type": "code",
   "execution_count": 65,
   "id": "13edd3ad-1bf4-4a76-9c05-e32fb634896d",
   "metadata": {},
   "outputs": [],
   "source": [
    "def get_links_from_site(site: str) -> list[str]:\n",
    "    current_site_name = get_site_name(site)\n",
    "    other_sites = []\n",
    "    \n",
    "    links = soup.find_all(\"a\", href=True)\n",
    "    \n",
    "    for link in links:\n",
    "        link_text = link['href'] \n",
    "        \n",
    "        #Следуем стандартам безопастности + Исключаем сомнительные сайты + Не переходим на самого себя (следуем условию)\n",
    "        if 'https' in link_text and not any([site_name in link_text for site_name in bad_sites]) and current_site_name not in link_text: \n",
    "            other_sites.append(link['href'])\n",
    "    return other_sites"
   ]
  },
  {
   "cell_type": "code",
   "execution_count": 66,
   "id": "d6c34b5a-d49d-48da-b6fa-b22fa90a87dc",
   "metadata": {},
   "outputs": [],
   "source": [
    "def save_links(site: str, links: list[str]) -> str:\n",
    "    current_site_name = get_site_name(site)\n",
    "\n",
    "    file_name = f'links_from_{current_site_name}.txt'\n",
    "    with open(file_name, 'w') as f:\n",
    "        f.write('\\n'.join(links))\n",
    "    return file_name\n"
   ]
  },
  {
   "cell_type": "code",
   "execution_count": 76,
   "id": "a640f8ae-c2cc-4d71-b17e-9827cf8e2f4d",
   "metadata": {},
   "outputs": [],
   "source": [
    "def print_links(links: list[str]) -> None:\n",
    "    print(*links, sep='\\n')    "
   ]
  },
  {
   "cell_type": "code",
   "execution_count": 68,
   "id": "00aa1f9f-c5be-4439-aa9b-18e535aac6cc",
   "metadata": {},
   "outputs": [],
   "source": [
    "#links = get_links_from_site(start_site)\n",
    "#save_links(start_site, links)\n"
   ]
  },
  {
   "cell_type": "code",
   "execution_count": 77,
   "id": "2ec03cfd-245b-4dad-a24d-cb05c79df183",
   "metadata": {},
   "outputs": [],
   "source": [
    "site = start_site\n",
    "unvisited_sites = []\n",
    "def main_process(site:str, active_links: list[str]) -> None:\n",
    "    links = get_links_from_site(site)\n",
    "    user_response = input('Display on console or write in txt file? (\"c\" for concole, \"f\"-file, other/nothing for continue):')\n",
    "    if user_response == 'c':\n",
    "        print_links(links)\n",
    "    elif user_response == 'f':\n",
    "        file_name = save_links(site, links)\n",
    "        print(f'Сохранено в файл: \"{file_name}\"')\n",
    "    else:\n",
    "        print('Nothing was been chosen, continue')\n",
    "\n",
    "    [active_links.append(link) for link in links]\n",
    "    user_response = input(f'\\nContinue on {active_links[0]} ? (y/n)')\n",
    "    if user_response == 'y':\n",
    "        main_process(unvisited_sites[0], unvisited_sites[1:])\n",
    "            \n",
    "    "
   ]
  },
  {
   "cell_type": "code",
   "execution_count": 78,
   "id": "14bb92b8-cf5b-47a4-a05e-03bfb55af372",
   "metadata": {},
   "outputs": [
    {
     "name": "stdin",
     "output_type": "stream",
     "text": [
      "Display on console or write in txt file? (\"c\" for concole, \"f\"-file, other/nothing for continue): c\n"
     ]
    },
    {
     "name": "stdout",
     "output_type": "stream",
     "text": [
      "https://ybcase.com/company-services/legal-services/perevod-na-obsluzivanie-v-oae\n",
      "https://github.com/SeptdirWorkshop/JetBrains-PhpStorm\n",
      "https://www.jetbrains.com/help/phpstorm/joomla-support.html\n",
      "https://jpath.ru/docs/misc/dev-tools/nastrojka-ide-phpstorm-dlya-raboty-s-joomla\n",
      "https://merlion.com/press-center/news/merlion-----novyy-vladelets-brendov-vitek--r--ndell--maxwell-i-coolfort\n",
      "https://www.channelnewsasia.com/east-asia/japan-floppy-disks-usage-ends-government-systems-4454061\n",
      "https://www.reuters.com/technology/samsung-flags-15-fold-rise-second-quarter-profit-chip-prices-climb-2024-07-04/\n",
      "https://www.theverge.com/2024/7/4/24192228/amazon-kindle-downloading-is-down-outage-ebooks-e-readers\n",
      "https://selectel.ru/services/cloud/servers/?section=prices%2F%3Futm_medium%3Dsocial&utm_source=habr&utm_campaign=cloud_shelving_050724_content\n",
      "https://selectel.ru/services/cloud/servers/?section=prices%2F%3Futm_medium%3Dsocial&utm_source=habr&utm_campaign=cloud_shelving_050724_content\n",
      "https://www.youtube.com/channel/UCd_sTwKqVrweTt4oAKY5y4w\n"
     ]
    },
    {
     "name": "stdin",
     "output_type": "stream",
     "text": [
      "\n",
      "Continue on https://ybcase.com/company-services/legal-services/perevod-na-obsluzivanie-v-oae ? (y/n) y\n",
      "Display on console or write in txt file? (\"c\" for concole, \"f\"-file, other/nothing for continue): f\n"
     ]
    },
    {
     "name": "stdout",
     "output_type": "stream",
     "text": [
      "Сохранено в файл: \"links_from_ybcase.com.txt\"\n"
     ]
    },
    {
     "name": "stdin",
     "output_type": "stream",
     "text": [
      "\n",
      "Continue on https://github.com/SeptdirWorkshop/JetBrains-PhpStorm ? (y/n) \n"
     ]
    }
   ],
   "source": [
    "main_process(start_site, unvisited_sites)"
   ]
  },
  {
   "cell_type": "code",
   "execution_count": null,
   "id": "c5db6c50-c90d-4532-a618-0129e96b2ccb",
   "metadata": {},
   "outputs": [],
   "source": []
  }
 ],
 "metadata": {
  "kernelspec": {
   "display_name": "Python 3 (ipykernel)",
   "language": "python",
   "name": "python3"
  },
  "language_info": {
   "codemirror_mode": {
    "name": "ipython",
    "version": 3
   },
   "file_extension": ".py",
   "mimetype": "text/x-python",
   "name": "python",
   "nbconvert_exporter": "python",
   "pygments_lexer": "ipython3",
   "version": "3.9.18"
  }
 },
 "nbformat": 4,
 "nbformat_minor": 5
}
